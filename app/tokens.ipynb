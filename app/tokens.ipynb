{
 "cells": [
  {
   "cell_type": "code",
   "execution_count": 2,
   "metadata": {},
   "outputs": [
    {
     "name": "stderr",
     "output_type": "stream",
     "text": [
      "/Users/lioche/Documents/@TROOPLE/API_DOCUMENT_INTELLIGENCE/.venv/lib/python3.11/site-packages/tqdm/auto.py:21: TqdmWarning: IProgress not found. Please update jupyter and ipywidgets. See https://ipywidgets.readthedocs.io/en/stable/user_install.html\n",
      "  from .autonotebook import tqdm as notebook_tqdm\n"
     ]
    }
   ],
   "source": [
    "import google.generativeai as genai\n",
    "from settings import get_settings\n",
    "from connectors.google import GeminiLLM"
   ]
  },
  {
   "cell_type": "code",
   "execution_count": 3,
   "metadata": {},
   "outputs": [],
   "source": [
    "llm = GeminiLLM()"
   ]
  },
  {
   "cell_type": "code",
   "execution_count": 4,
   "metadata": {},
   "outputs": [],
   "source": [
    "with open(\"../311-2023-016324.pdf\", \"rb\") as f:\n",
    "    file = f.read()"
   ]
  },
  {
   "cell_type": "code",
   "execution_count": 5,
   "metadata": {},
   "outputs": [],
   "source": [
    "from io import BytesIO\n",
    "by = BytesIO(file)"
   ]
  },
  {
   "cell_type": "code",
   "execution_count": 30,
   "metadata": {},
   "outputs": [
    {
     "name": "stdout",
     "output_type": "stream",
     "text": [
      "{'name': 'files/ab6lh9gjsnax', 'mime_type': 'application/pdf', 'size_bytes': '267999', 'create_time': '2024-10-15T10:43:00.311519Z', 'update_time': '2024-10-15T10:43:00.311519Z', 'expiration_time': '2024-10-17T10:43:00.292226005Z', 'sha256_hash': 'M2Y0OGEzMjk4OTMwOGE0ZDNjYzI1Y2FjNGJkNDNjMWEwZDFjM2RiMTMxZTk0OGU1MGRlNzFmNTA1N2Q5MGFjNg==', 'uri': 'https://generativelanguage.googleapis.com/v1beta/files/ab6lh9gjsnax', 'state': 'ACTIVE', 'display_name': ''}\n"
     ]
    }
   ],
   "source": [
    "ufile = llm.upload_file(by, \"application/pdf\", True)"
   ]
  },
  {
   "cell_type": "code",
   "execution_count": 31,
   "metadata": {},
   "outputs": [
    {
     "data": {
      "text/plain": [
       "genai.File({\n",
       "    'name': 'files/ab6lh9gjsnax',\n",
       "    'display_name': '',\n",
       "    'mime_type': 'application/pdf',\n",
       "    'sha256_hash': 'M2Y0OGEzMjk4OTMwOGE0ZDNjYzI1Y2FjNGJkNDNjMWEwZDFjM2RiMTMxZTk0OGU1MGRlNzFmNTA1N2Q5MGFjNg==',\n",
       "    'size_bytes': '267999',\n",
       "    'state': 'ACTIVE',\n",
       "    'uri': 'https://generativelanguage.googleapis.com/v1beta/files/ab6lh9gjsnax',\n",
       "    'create_time': '2024-10-15T10:43:00.311519Z',\n",
       "    'expiration_time': '2024-10-17T10:43:00.292226005Z',\n",
       "    'update_time': '2024-10-15T10:43:00.311519Z'})"
      ]
     },
     "execution_count": 31,
     "metadata": {},
     "output_type": "execute_result"
    }
   ],
   "source": [
    "ufile"
   ]
  },
  {
   "cell_type": "code",
   "execution_count": 23,
   "metadata": {},
   "outputs": [
    {
     "ename": "PermissionDenied",
     "evalue": "403 You do not have permission to access the File obs7lne9hxx or it may not exist.",
     "output_type": "error",
     "traceback": [
      "\u001b[0;31m---------------------------------------------------------------------------\u001b[0m",
      "\u001b[0;31m_InactiveRpcError\u001b[0m                         Traceback (most recent call last)",
      "File \u001b[0;32m~/Documents/@TROOPLE/API_DOCUMENT_INTELLIGENCE/.venv/lib/python3.11/site-packages/google/api_core/grpc_helpers.py:76\u001b[0m, in \u001b[0;36m_wrap_unary_errors.<locals>.error_remapped_callable\u001b[0;34m(*args, **kwargs)\u001b[0m\n\u001b[1;32m     75\u001b[0m \u001b[38;5;28;01mtry\u001b[39;00m:\n\u001b[0;32m---> 76\u001b[0m     \u001b[38;5;28;01mreturn\u001b[39;00m \u001b[43mcallable_\u001b[49m\u001b[43m(\u001b[49m\u001b[38;5;241;43m*\u001b[39;49m\u001b[43margs\u001b[49m\u001b[43m,\u001b[49m\u001b[43m \u001b[49m\u001b[38;5;241;43m*\u001b[39;49m\u001b[38;5;241;43m*\u001b[39;49m\u001b[43mkwargs\u001b[49m\u001b[43m)\u001b[49m\n\u001b[1;32m     77\u001b[0m \u001b[38;5;28;01mexcept\u001b[39;00m grpc\u001b[38;5;241m.\u001b[39mRpcError \u001b[38;5;28;01mas\u001b[39;00m exc:\n",
      "File \u001b[0;32m~/Documents/@TROOPLE/API_DOCUMENT_INTELLIGENCE/.venv/lib/python3.11/site-packages/grpc/_channel.py:1181\u001b[0m, in \u001b[0;36m_UnaryUnaryMultiCallable.__call__\u001b[0;34m(self, request, timeout, metadata, credentials, wait_for_ready, compression)\u001b[0m\n\u001b[1;32m   1175\u001b[0m (\n\u001b[1;32m   1176\u001b[0m     state,\n\u001b[1;32m   1177\u001b[0m     call,\n\u001b[1;32m   1178\u001b[0m ) \u001b[38;5;241m=\u001b[39m \u001b[38;5;28mself\u001b[39m\u001b[38;5;241m.\u001b[39m_blocking(\n\u001b[1;32m   1179\u001b[0m     request, timeout, metadata, credentials, wait_for_ready, compression\n\u001b[1;32m   1180\u001b[0m )\n\u001b[0;32m-> 1181\u001b[0m \u001b[38;5;28;01mreturn\u001b[39;00m \u001b[43m_end_unary_response_blocking\u001b[49m\u001b[43m(\u001b[49m\u001b[43mstate\u001b[49m\u001b[43m,\u001b[49m\u001b[43m \u001b[49m\u001b[43mcall\u001b[49m\u001b[43m,\u001b[49m\u001b[43m \u001b[49m\u001b[38;5;28;43;01mFalse\u001b[39;49;00m\u001b[43m,\u001b[49m\u001b[43m \u001b[49m\u001b[38;5;28;43;01mNone\u001b[39;49;00m\u001b[43m)\u001b[49m\n",
      "File \u001b[0;32m~/Documents/@TROOPLE/API_DOCUMENT_INTELLIGENCE/.venv/lib/python3.11/site-packages/grpc/_channel.py:1006\u001b[0m, in \u001b[0;36m_end_unary_response_blocking\u001b[0;34m(state, call, with_call, deadline)\u001b[0m\n\u001b[1;32m   1005\u001b[0m \u001b[38;5;28;01melse\u001b[39;00m:\n\u001b[0;32m-> 1006\u001b[0m     \u001b[38;5;28;01mraise\u001b[39;00m _InactiveRpcError(state)\n",
      "\u001b[0;31m_InactiveRpcError\u001b[0m: <_InactiveRpcError of RPC that terminated with:\n\tstatus = StatusCode.PERMISSION_DENIED\n\tdetails = \"You do not have permission to access the File obs7lne9hxx or it may not exist.\"\n\tdebug_error_string = \"UNKNOWN:Error received from peer ipv4:74.125.206.95:443 {grpc_message:\"You do not have permission to access the File obs7lne9hxx or it may not exist.\", grpc_status:7, created_time:\"2024-10-15T12:39:30.065824+02:00\"}\"\n>",
      "\nThe above exception was the direct cause of the following exception:\n",
      "\u001b[0;31mPermissionDenied\u001b[0m                          Traceback (most recent call last)",
      "Cell \u001b[0;32mIn[23], line 1\u001b[0m\n\u001b[0;32m----> 1\u001b[0m \u001b[43mgenai\u001b[49m\u001b[38;5;241;43m.\u001b[39;49m\u001b[43mget_file\u001b[49m\u001b[43m(\u001b[49m\u001b[38;5;124;43m\"\u001b[39;49m\u001b[38;5;124;43mfiles/obs7lne9hxx\u001b[39;49m\u001b[38;5;124;43m\"\u001b[39;49m\u001b[43m)\u001b[49m\n",
      "File \u001b[0;32m~/Documents/@TROOPLE/API_DOCUMENT_INTELLIGENCE/.venv/lib/python3.11/site-packages/google/generativeai/files.py:105\u001b[0m, in \u001b[0;36mget_file\u001b[0;34m(name)\u001b[0m\n\u001b[1;32m    103\u001b[0m     name \u001b[38;5;241m=\u001b[39m \u001b[38;5;124mf\u001b[39m\u001b[38;5;124m\"\u001b[39m\u001b[38;5;124mfiles/\u001b[39m\u001b[38;5;132;01m{\u001b[39;00mname\u001b[38;5;132;01m}\u001b[39;00m\u001b[38;5;124m\"\u001b[39m\n\u001b[1;32m    104\u001b[0m client \u001b[38;5;241m=\u001b[39m get_default_file_client()\n\u001b[0;32m--> 105\u001b[0m \u001b[38;5;28;01mreturn\u001b[39;00m file_types\u001b[38;5;241m.\u001b[39mFile(\u001b[43mclient\u001b[49m\u001b[38;5;241;43m.\u001b[39;49m\u001b[43mget_file\u001b[49m\u001b[43m(\u001b[49m\u001b[43mname\u001b[49m\u001b[38;5;241;43m=\u001b[39;49m\u001b[43mname\u001b[49m\u001b[43m)\u001b[49m)\n",
      "File \u001b[0;32m~/Documents/@TROOPLE/API_DOCUMENT_INTELLIGENCE/.venv/lib/python3.11/site-packages/google/ai/generativelanguage_v1beta/services/file_service/client.py:923\u001b[0m, in \u001b[0;36mFileServiceClient.get_file\u001b[0;34m(self, request, name, retry, timeout, metadata)\u001b[0m\n\u001b[1;32m    920\u001b[0m \u001b[38;5;28mself\u001b[39m\u001b[38;5;241m.\u001b[39m_validate_universe_domain()\n\u001b[1;32m    922\u001b[0m \u001b[38;5;66;03m# Send the request.\u001b[39;00m\n\u001b[0;32m--> 923\u001b[0m response \u001b[38;5;241m=\u001b[39m \u001b[43mrpc\u001b[49m\u001b[43m(\u001b[49m\n\u001b[1;32m    924\u001b[0m \u001b[43m    \u001b[49m\u001b[43mrequest\u001b[49m\u001b[43m,\u001b[49m\n\u001b[1;32m    925\u001b[0m \u001b[43m    \u001b[49m\u001b[43mretry\u001b[49m\u001b[38;5;241;43m=\u001b[39;49m\u001b[43mretry\u001b[49m\u001b[43m,\u001b[49m\n\u001b[1;32m    926\u001b[0m \u001b[43m    \u001b[49m\u001b[43mtimeout\u001b[49m\u001b[38;5;241;43m=\u001b[39;49m\u001b[43mtimeout\u001b[49m\u001b[43m,\u001b[49m\n\u001b[1;32m    927\u001b[0m \u001b[43m    \u001b[49m\u001b[43mmetadata\u001b[49m\u001b[38;5;241;43m=\u001b[39;49m\u001b[43mmetadata\u001b[49m\u001b[43m,\u001b[49m\n\u001b[1;32m    928\u001b[0m \u001b[43m\u001b[49m\u001b[43m)\u001b[49m\n\u001b[1;32m    930\u001b[0m \u001b[38;5;66;03m# Done; return the response.\u001b[39;00m\n\u001b[1;32m    931\u001b[0m \u001b[38;5;28;01mreturn\u001b[39;00m response\n",
      "File \u001b[0;32m~/Documents/@TROOPLE/API_DOCUMENT_INTELLIGENCE/.venv/lib/python3.11/site-packages/google/api_core/gapic_v1/method.py:131\u001b[0m, in \u001b[0;36m_GapicCallable.__call__\u001b[0;34m(self, timeout, retry, compression, *args, **kwargs)\u001b[0m\n\u001b[1;32m    128\u001b[0m \u001b[38;5;28;01mif\u001b[39;00m \u001b[38;5;28mself\u001b[39m\u001b[38;5;241m.\u001b[39m_compression \u001b[38;5;129;01mis\u001b[39;00m \u001b[38;5;129;01mnot\u001b[39;00m \u001b[38;5;28;01mNone\u001b[39;00m:\n\u001b[1;32m    129\u001b[0m     kwargs[\u001b[38;5;124m\"\u001b[39m\u001b[38;5;124mcompression\u001b[39m\u001b[38;5;124m\"\u001b[39m] \u001b[38;5;241m=\u001b[39m compression\n\u001b[0;32m--> 131\u001b[0m \u001b[38;5;28;01mreturn\u001b[39;00m \u001b[43mwrapped_func\u001b[49m\u001b[43m(\u001b[49m\u001b[38;5;241;43m*\u001b[39;49m\u001b[43margs\u001b[49m\u001b[43m,\u001b[49m\u001b[43m \u001b[49m\u001b[38;5;241;43m*\u001b[39;49m\u001b[38;5;241;43m*\u001b[39;49m\u001b[43mkwargs\u001b[49m\u001b[43m)\u001b[49m\n",
      "File \u001b[0;32m~/Documents/@TROOPLE/API_DOCUMENT_INTELLIGENCE/.venv/lib/python3.11/site-packages/google/api_core/grpc_helpers.py:78\u001b[0m, in \u001b[0;36m_wrap_unary_errors.<locals>.error_remapped_callable\u001b[0;34m(*args, **kwargs)\u001b[0m\n\u001b[1;32m     76\u001b[0m     \u001b[38;5;28;01mreturn\u001b[39;00m callable_(\u001b[38;5;241m*\u001b[39margs, \u001b[38;5;241m*\u001b[39m\u001b[38;5;241m*\u001b[39mkwargs)\n\u001b[1;32m     77\u001b[0m \u001b[38;5;28;01mexcept\u001b[39;00m grpc\u001b[38;5;241m.\u001b[39mRpcError \u001b[38;5;28;01mas\u001b[39;00m exc:\n\u001b[0;32m---> 78\u001b[0m     \u001b[38;5;28;01mraise\u001b[39;00m exceptions\u001b[38;5;241m.\u001b[39mfrom_grpc_error(exc) \u001b[38;5;28;01mfrom\u001b[39;00m \u001b[38;5;21;01mexc\u001b[39;00m\n",
      "\u001b[0;31mPermissionDenied\u001b[0m: 403 You do not have permission to access the File obs7lne9hxx or it may not exist."
     ]
    }
   ],
   "source": [
    "genai.get_file(\"files/obs7lne9hxx\")"
   ]
  },
  {
   "cell_type": "code",
   "execution_count": 3,
   "metadata": {},
   "outputs": [],
   "source": [
    "genai.configure(api_key=get_settings().GOOGLE_API_KEY.get_secret_value())"
   ]
  },
  {
   "cell_type": "code",
   "execution_count": 4,
   "metadata": {},
   "outputs": [
    {
     "data": {
      "text/plain": [
       "total_tokens: 230"
      ]
     },
     "execution_count": 4,
     "metadata": {},
     "output_type": "execute_result"
    }
   ],
   "source": [
    "model = genai.GenerativeModel('models/gemini-1.5-flash')\n",
    "model.count_tokens(get_settings().SYSTEM_PROMPT)"
   ]
  },
  {
   "cell_type": "code",
   "execution_count": 19,
   "metadata": {},
   "outputs": [],
   "source": [
    "def get_prices(input: int, output: int):\n",
    "    prices = {\n",
    "        \"gemini-1.5-flash\": (0.075, 0.3),\n",
    "        \"gemini-1.5-pro\": (1.25, 5.0),\n",
    "    }\n",
    "    outputs = {}\n",
    "    for model, (min_price, max_price) in prices.items():\n",
    "        min_price = min_price / 1_000_000\n",
    "        max_price = max_price / 1_000_000\n",
    "        outputs[model] = round(min_price * input + max_price * output, 6)\n",
    "    return outputs\n"
   ]
  },
  {
   "cell_type": "code",
   "execution_count": 22,
   "metadata": {},
   "outputs": [
    {
     "data": {
      "text/plain": [
       "{'gemini-1.5-flash': 0.001356, 'gemini-1.5-pro': 0.0226}"
      ]
     },
     "execution_count": 22,
     "metadata": {},
     "output_type": "execute_result"
    }
   ],
   "source": [
    "get_prices(4716, 3341)"
   ]
  },
  {
   "cell_type": "code",
   "execution_count": 23,
   "metadata": {},
   "outputs": [],
   "source": [
    "from PyPDF2 import PdfReader, PdfWriter\n",
    "pdf = PdfReader(by)"
   ]
  },
  {
   "cell_type": "code",
   "execution_count": 28,
   "metadata": {},
   "outputs": [],
   "source": [
    "def split_pdf_group_of_pages(pdf, pages_per_group: int = 2) -> list[BytesIO]:\n",
    "    splits = []\n",
    "    for i in range(0, len(pdf.pages), pages_per_group):\n",
    "        writer = PdfWriter()\n",
    "        bio = BytesIO()\n",
    "        idx_start = i\n",
    "        idx_end = min(i + pages_per_group, len(pdf.pages))\n",
    "        for page in pdf.pages[idx_start:idx_end]:\n",
    "            writer.add_page(page)\n",
    "        writer.write(bio)\n",
    "        with open(f\"split_{idx_start}_{idx_end}.pdf\", \"wb\") as f:\n",
    "            f.write(bio.getvalue())\n",
    "        splits.append(bio)\n",
    "    return splits"
   ]
  },
  {
   "cell_type": "code",
   "execution_count": 29,
   "metadata": {},
   "outputs": [
    {
     "data": {
      "text/plain": [
       "[<_io.BytesIO at 0x12086d5d0>, <_io.BytesIO at 0x1208ae6b0>]"
      ]
     },
     "execution_count": 29,
     "metadata": {},
     "output_type": "execute_result"
    }
   ],
   "source": [
    "split_pdf_group_of_pages(pdf, 2)"
   ]
  },
  {
   "cell_type": "code",
   "execution_count": 30,
   "metadata": {},
   "outputs": [
    {
     "name": "stdout",
     "output_type": "stream",
     "text": [
      "  \"Neerlegging-Dépôt: 29/04/2024\n",
      "Regist.-Enregistr.: 17/05/2024\n",
      "N°: 187727/CO/311\n",
      "PARITAIR COMITE VOOR DE GROTE\n",
      "KLEINHANDELSZAKEN\n",
      "PC 311\n",
      "COLLECTIEVE ARBEIDSOVEREENKOMST VAN 18\n",
      "APRIL 2024BETREFFENDE HET STELSEL VAN\n",
      "WERKLOOSHEID MET BEDRIJFSTOESLAG\n",
      "(Juli-oktober 2025)\n",
      "HOOFDSTUK 1 - TOEPASSINGSGEBIED\n",
      "Artikel 1-§ 1. Deze collectieve\n",
      "arbeidsovereenkomst is van toepassing op de\n",
      "werkgevers en op de werknemers van de\n",
      "ondernemingen welke ressorteren onder het\n",
      "Paritair comité voor de grote kleinhandelszaken\n",
      "(PC 311).\n",
      "§ 2. Met \"werknemers\" worden de mannelijke\n",
      "en vrouwelijke werknemers bedoeld.\n",
      "HOOFDSTUK 2 - WERKLOOSHEID MET\n",
      "BEDRIJFSTOESLAG VOOR WERKNEMERS MET\n",
      "EEN BEROEPSLOOPBAAN VAN 33 JAAR IN EEN\n",
      "ZWAAR BEROEP\n",
      "Artikel 2 - § 1. Onverminderd de toepassing van\n",
      "de collectieve arbeidsovereenkomst nr. 17 van\n",
      "19 december 1974 \"tot invoering van een\n",
      "regeling van aanvullende vergoeding ten gunste\n",
      "van sommige bejaarde werknemers indien zij\n",
      "worden ontslagen\" en in uitvoering van de\n",
      "toekomstige collectieve arbeidsovereenkomst\n",
      "van de NAR, wordt aan de ontslagen\n",
      "werknemers, die voldoen aan de voorwaarden\n",
      "vastgesteld in de volgende paragrafen, het\n",
      "voordeel van het stelsel van werkloosheid met\n",
      "bedrijfstoeslag toegekend.\n",
      "§ 2. Werknemers die ontslagen worden moeten\n",
      "60 jaar of ouder zijn:\n",
      "Op het ogenblik van het einde van de\n",
      "arbeidsovereenkomst;\n",
      "En ten laatste op 30 juni 2025.\n",
      "§ 3. De loopbaanvoorwaarde van 33 jaar moet\n",
      "vervuld zijn op het ogenblik van de het einde\n",
      "van de arbeidsovereenkomst.\n",
      "HOOFDSTUK 3 - WERKLOOSHEID MET\n",
      "BEDRIJFSTOESLAG VOOR WERKNEMERS MET\n",
      "EEN BEROEPSLOOPBAAN VAN 35 JAAR IN EEN\n",
      "ZWAAR BEROEP\n",
      "Artikel 3-§ 1. Onverminderd de toepassing van\n",
      "de collectieve arbeidsovereenkomst nr. 17 van\n",
      "19 december 1974 \"tot invoering van een\n",
      "regeling van aanvullende vergoeding ten gunste\n",
      "van sommige bejaarde werknemers indien zij\n",
      "worden ontslagen\" en in uitvoering van artikel\n",
      "3, § 3 van het koninklijk besluit van 3 mei 2007\n",
      "tot regeling van het stelsel van werkloosheid\n",
      "met bedrijfstoeslag en de toekomstige\n",
      "collectieve arbeidsovereenkomst van de NAR,\n",
      "wordt aan de ontslagen werknemers, die\n",
      "voldoen aan de voorwaarden vastgesteld in de\n",
      "volgende paragrafen, het voordeel van het\n",
      "stelsel van werkloosheid met bedrijfstoeslag\n",
      "toegekend.\n",
      "§ 2. Werknemers die ontslagen worden moeten\n",
      "60 jaar of ouder zijn:\n",
      "Op het ogenblik van het einde van de\n",
      "arbeidsovereenkomst;\n",
      "En ten laatste op 30 juni 2025.\n",
      "§ 3. De loopbaanvoorwaarde van 35 jaar moet\n",
      "vervuld zijn op het ogenblik van het einde van\n",
      "de arbeidsovereenkomst.\n",
      "HOOFDSTUK 4 - WERKLOOSHEID MET\n",
      "BEDRIJFSTOESLAG VOOR WERKNEMERS MET\n",
      "EEN BEROEPSLOOPBAAN VAN 40 JAAR\n",
      "Artikel 4 - § 1. Onverminderd de toepassing van\n",
      "de collectieve arbeidsovereenkomst nr. 17 van\n",
      "19 december 1974 \"tot invoering van een\n",
      "regeling van aanvullende vergoeding ten gunste\n",
      "van sommige bejaarde werknemers indien zij\n",
      "worden ontslagen\" en in uitvoering van de\n",
      "toekomstige collectieve arbeidsovereenkomst\n",
      "van de NAR, wordt aan de ontslagen\n",
      "COMMISSION PARITAIRE POUR DES GRANDES\n",
      "ENTREPRISES DE VENTE AU DETAIL\n",
      "CP 311\n",
      "CONVENTION COLLECTIVE DE TRAVAIL DU 18\n",
      "AVRIL 2024 RELATIVE AU RÉGIME DE\n",
      "CHÔMAGE AVEC COMPLÉMENT D'ENTREPRISE\n",
      "(Juillet-octobre 2025)\n",
      "CHAPITRE 1 - CHAMP D'APPLICATION\n",
      "Article 1 - § 1. La présente convention collective\n",
      "de travail s'applique aux employeurs et aux\n",
      "travailleurs des entreprises relevant de la\n",
      "Commission paritaire des grandes entreprises\n",
      "de vente au détail (CP 311).\n",
      "§ 2. Par \"travailleurs\" sont visés les travailleurs\n",
      "masculins et féminins.\n",
      "CHAPITRE 2 - CHÔMAGE AVEC COMPLÉMENT\n",
      "D'ENTREPRISE POUR LES TRAVAILLEURS AVEC\n",
      "33 ANS DE CARRIÈRE DANS UN MÉTIER LOURD\n",
      "Article 2 - § 1. Sans préjudice de l'application de\n",
      "la convention collective de travail n°17 du 19\n",
      "décembre 1974 << instituant un régime\n",
      "d'indemnité complémentaire pour certains\n",
      "travailleurs âgés en cas de licenciement >> et en\n",
      "exécution de la future convention collective de\n",
      "travail du CNT, il est octroyé aux travailleurs\n",
      "licenciés qui satisfont aux conditions énoncées\n",
      "dans les paragraphes suivants, l'avantage du\n",
      "régime de chômage avec complément\n",
      "d'entreprise.\n",
      "§ 2. Les travailleurs licenciés doivent avoir\n",
      "atteint l'âge de 60 ans au moins :\n",
      "À la fin de leur contrat de travail;\n",
      "Et au plus tard le 30 juin 2025.\n",
      "§ 3. La condition de carrière de 33 ans doit être\n",
      "remplie au moment de la fin du contrat de\n",
      "travail.\n",
      "CHAPITRE 3 - CHÔMAGE AVEC COMPLÉMENT\n",
      "D'ENTREPRISE POUR LES TRAVAILLEURS AVEC\n",
      "35 ANS DE CARRIÈRE DANS UN MÉTIER LOURD\n",
      "Article 3 - § 1. Sans préjudice de l'application de\n",
      "la convention collective de travail n°17 du 19\n",
      "décembre 1974 << instituant un régime\n",
      "d'indemnité complémentaire pour certains\n",
      "travailleurs âgés en cas de licenciement >> et en\n",
      "exécution de l'article 3, § 3 de l'arrêté royal du\n",
      "3 mai 2007 fixant le régime de chômage avec\n",
      "complément d'entreprise et de la future\n",
      "convention collective de travail du, il est\n",
      "octroyé aux travailleurs licenciés qui satisfont\n",
      "aux conditions énoncées dans les paragraphes\n",
      "suivants, l'avantage du régime de chômage avec\n",
      "complément d'entreprise.\n",
      "§ 2. Les travailleurs licenciés doivent avoir\n",
      "atteint l'âge de 60 ans au moins :\n",
      "À la fin de leur contrat de travail;\n",
      "Et au plus tard le 30 juin 2025.\n",
      "§ 3. La condition de carrière de 35 ans doit être\n",
      "remplie au moment de la fin du contrat de\n",
      "travail.\n",
      "CHAPITRE 4 - CHÔMAGE AVEC COMPLÉMENT\n",
      "D'ENTREPRISE POUR LES TRAVAILLEURS AVEC\n",
      "40 ANS DE CARRIÈRE\n",
      "Article 4 - § 1. Sans préjudice de l'application de\n",
      "la convention collective de travail n°17 du 19\n",
      "décembre 1974 << instituant un régime\n",
      "d'indemnité complémentaire pour certains\n",
      "travailleurs âgés en cas de licenciement >> et en\n",
      "exécution de la future convention collective de\n",
      "travail du CNT, il est octroyé aux travailleurs\n",
      "licenciés qui satisfont aux conditions énoncées\n",
      "PC 311 WERKLOOSHEID MET BEDRIJFSTOESLAG\n",
      "1/4\n",
      "CP 311 CHÔMAGE AVEC COMPLÉMENT D'ENTREPRISE\n",
      "PC 311 WERKLOOSHEID MET BEDRIJFSTOESLAG\n",
      "2/4\n",
      "CP 311 CHÔMAGE AVEC COMPLÉMENT D'ENTREPRISE\n",
      "==End of OCR for page 2== ==Start of OCR for page 1==\n",
      "werknemers, die voldoen aan de voorwaarden\n",
      "vastgesteld in de volgende paragrafen, het\n",
      "voordeel van het stelsel van werkloosheid met\n",
      "bedrijfstoeslag toegekend.\n",
      "§ 2. Werknemers die ontslagen worden moeten\n",
      "60 jaar of ouder zijn:\n",
      "Op het ogenblik van het einde van de\n",
      "arbeidsovereenkomst;\n",
      "En ten laatste op 30 juni 2025.\n",
      "§ 3. De loopbaanvoorwaarde van 40 jaar moet\n",
      "vervuld zijn op het ogenblik van het einde van\n",
      "de arbeidsovereenkomst.\n",
      "HOOFDSTUK 5 - OVERGANG TIJDSKREDIET -\n",
      "WERKLOOSHEID MET BEDRIJFSTOESLAG\n",
      "Artikel 5 - Voor de werknemers die genieten van\n",
      "een vermindering van de arbeidsprestaties tot\n",
      "een 4/5de of tot een halftijdse betrekking en die\n",
      "overstappen in het stelsel van werkloosheid\n",
      "met bedrijfstoeslag, wordt de aanvullende\n",
      "vergoeding berekend op basis van het bruto\n",
      "maandloon dat de werknemer zou verdienen\n",
      "indien hij zijn arbeidsprestaties niet zou\n",
      "verminderd hebben en de\n",
      "werkloosheidsuitkeringen overeenstemmend\n",
      "met het arbeidsregime in voege voor de\n",
      "aanvang van het tijdskrediet.\n",
      "HOOFDSTUK 6 - WERKHERVATTING\n",
      "Artikel 6 - Bij werkhervatting van de werkloze\n",
      "met bedrijfstoeslag binnen de voorwaarden van\n",
      "artikelen 114 en 115 van de Wet van 27\n",
      "december 2006 houdende diverse bepalingen,\n",
      "namelijk als werknemer in loondienst bij een\n",
      "andere werkgever dan de schuldenaar van de\n",
      "werkloosheid met bedrijfstoeslag of voor\n",
      "rekening van een werkgever die niet behoort\n",
      "tot dezelfde technische bedrijfseenheid als de\n",
      "werkgever die hem heeft ontslagen, of als\n",
      "zelfstandige in hoofdberoep, voor zover deze\n",
      "activiteit niet wordt uitgeoefend bij de\n",
      "dans les paragraphes suivants, l'avantage du\n",
      "régime de chômage avec complément\n",
      "d'entreprise.\n",
      "§ 2. Les travailleurs licenciés doivent avoir\n",
      "atteint l'âge de 60 ans au moins :\n",
      "À la fin de leur contrat de travail;\n",
      "Et au plus tard le 30 juin 2025.\n",
      "§ 3. La condition de carrière de 40 ans doit être\n",
      "remplie au moment de la fin du contrat de\n",
      "travail.\n",
      "CHAPITRE 5 - PASSAGE CREDIT-TEMPS -\n",
      "CHÔMAGE AVEC COMPLÉMENT D'ENTREPRISE\n",
      "Article 5 - Pour les travailleurs bénéficiant d'une\n",
      "réduction des prestations de travail à 4/5ième\n",
      "temps ou à mi-temps et qui entrent dans le\n",
      "régime de chômage avec complément\n",
      "d'entreprise, l'indemnité complémentaire est\n",
      "calculée sur base du salaire mensuel brut que le\n",
      "travailleur aurait gagné s'il n'avait pas réduit ses\n",
      "prestations de travail et des allocations de\n",
      "chômage correspondant au régime de travail\n",
      "avant la prise du crédit-temps.\n",
      "CHAPITRE 6 - REPRISE DE TRAVAIL\n",
      "Article 6 - En cas de reprise de travail par le\n",
      "chômeur avec complément d'entreprise dans\n",
      "les conditions des articles 114 et 115 de la Loi\n",
      "du 27 décembre 2006 portant dispositions\n",
      "diverses, notamment comme salarié auprès\n",
      "d'un autre employeur que le débiteur du\n",
      "chômage avec complément d'entreprise ou\n",
      "auprès d'un employeur n'appartenant pas à la\n",
      "même unité technique d'exploitation que\n",
      "l'employeur qui l'a licencié ou en qualité de\n",
      "travailleur indépendant à titre principal à\n",
      "condition qu'il n'exerce pas son activité pour le\n",
      "werkgever die de werknemer heeft ontslagen of compte de l'employeur qui l'a licencié ou pour\n",
      "voor rekening van een werkgever die behoort\n",
      "tot dezelfde technische bedrijfseenheid als de\n",
      "le compte d'un employeur appartenant à la\n",
      "même unité technique d'exploitation que\n",
      "PC 311 WERKLOOSHEID MET BEDRIJFSTOESLAG\n",
      "3/4\n",
      "CP 311 CHÔMAGE AVEC COMPLÉMENT D'ENTREPRISE\n",
      "==End of OCR for page 1==\n",
      "\n",
      "==Start of OCR for page 2==\n",
      "werkgever die hem heeft ontslagen, zal de\n",
      "aanvullende vergoeding worden verder betaald.\n",
      "HOOFDSTUK 7 - BESCHIKBAARHEID\n",
      "l'employeur qui l'a licencié, l'indemnité\n",
      "complémentaire continuera à être payée.\n",
      "CHAPITRE 7 - DISPONIBILITE\n",
      "Article 7 - En exécution de l'article 22, § 3,\n",
      "alinéa 5 de l'arrêté royal du 3 mai 2007 fixant le\n",
      "régime de chômage avec complément\n",
      "d'entreprise et de CCT n°168 et 169 du CNT,\n",
      "Artikel 7 - In uitvoering van artikel 22, § 3, lid 5\n",
      "van het koninklijk besluit van 3 mei 2007 tot\n",
      "regeling van het stelsel van werkloosheid met\n",
      "bedrijfstoeslag en de CAO's nr. 168 en 169 van\n",
      "de NAR wordt de leeftijd vermeld in artikel 22, § l'âge mentionné à l'article 22, § 3, alinéa 4, 1°\n",
      "3, lid 4, 1° op 62 jaar gebracht vanaf 1 juli 2023\n",
      "tot 31 december 2026.\n",
      "HOOFDSTUK 8 - SLOTBEPALINGEN\n",
      "est porté à 62 ans à partir du 1er juillet 2023\n",
      "jusqu'au 31 décembre 2026.\n",
      "CHAPITRE 8 - DISPOSITIONS FINALES\n",
      "Artikel 8 - Deze collectieve\n",
      "Article 8 - La présente convention collective de\n",
      "arbeidsovereenkomst treedt in werking op 1 juli travail entre en vigueur le 1er juillet 2025 et\n",
      "2025 en houdt op van kracht te zijn op 31\n",
      "oktober 2025.\n",
      "cesse d'être d'application le 31 octobre 2025.\n",
      "PC 311 WERKLOOSHEID MET BEDRIJFSTOESLAG\n",
      "4/4\n",
      "CP 311 CHÔMAGE AVEC COMPLÉMENT D'ENTREPRISE\n",
      "==End of OCR for page 2==\n",
      "\n",
      "The document discusses the regulations for unemployment benefits with company supplement. \n",
      "\n",
      "**Key Elements:**\n",
      "\n",
      "* **Names:** No names are mentioned in the document.\n",
      "* **Numbers:**\n",
      "    * 4/5de\n",
      "    * 60 jaar\n",
      "    * 30 juni 2025\n",
      "    * 40 jaar\n",
      "    * 114 and 115\n",
      "    * 27 december 2006\n",
      "    * 168 and 169\n",
      "    * 1 juli 2023\n",
      "    * 31 december 2026\n",
      "    * 1 juli 2025\n",
      "    * 31 oktober 2025\n",
      "* **Dates:**\n",
      "    * 30 juni 2025\n",
      "    * 27 december 2006\n",
      "    * 3 mei 2007\n",
      "    * 1 juli 2023\n",
      "    * 31 december 2026\n",
      "    * 1 juli 2025\n",
      "    * 31 oktober 2025\n",
      "* **People Mentioned:** No people are mentioned in the document.\n",
      "* **Checkboxes:** No checkboxes are present.\n",
      "* **Phone Numbers:** No phone numbers are present. \n",
      "\n",
      "**Logical Consistency:**\n",
      "* The document is written in Dutch and French and is consistent throughout.\n",
      "*  There are no inconsistencies found. \n",
      "\n",
      "**Transcription:**\n",
      "The provided document details regulations regarding unemployment benefits with company supplement. It outlines the eligibility criteria for workers who are laid off and meet certain age and work experience requirements. \n",
      "\n",
      "The document also discusses the benefits of unemployment benefits for workers who have reduced their work hours and transition to unemployment benefits. \n",
      "\n",
      "It includes information about the conditions for resuming work while receiving unemployment benefits and the requirements for employers and employees in such situations. \n",
      "\n",
      "Finally, the document clarifies the availability of benefits and the specific age requirements for beneficiaries. It also details the date of effect and termination of the collective labor agreement. \n",
      "\n"
     ]
    }
   ],
   "source": [
    "print(\"\"\"  \"Neerlegging-Dépôt: 29/04/2024\\nRegist.-Enregistr.: 17/05/2024\\nN°: 187727/CO/311\\nPARITAIR COMITE VOOR DE GROTE\\nKLEINHANDELSZAKEN\\nPC 311\\nCOLLECTIEVE ARBEIDSOVEREENKOMST VAN 18\\nAPRIL 2024BETREFFENDE HET STELSEL VAN\\nWERKLOOSHEID MET BEDRIJFSTOESLAG\\n(Juli-oktober 2025)\\nHOOFDSTUK 1 - TOEPASSINGSGEBIED\\nArtikel 1-§ 1. Deze collectieve\\narbeidsovereenkomst is van toepassing op de\\nwerkgevers en op de werknemers van de\\nondernemingen welke ressorteren onder het\\nParitair comité voor de grote kleinhandelszaken\\n(PC 311).\\n§ 2. Met \\\"werknemers\\\" worden de mannelijke\\nen vrouwelijke werknemers bedoeld.\\nHOOFDSTUK 2 - WERKLOOSHEID MET\\nBEDRIJFSTOESLAG VOOR WERKNEMERS MET\\nEEN BEROEPSLOOPBAAN VAN 33 JAAR IN EEN\\nZWAAR BEROEP\\nArtikel 2 - § 1. Onverminderd de toepassing van\\nde collectieve arbeidsovereenkomst nr. 17 van\\n19 december 1974 \\\"tot invoering van een\\nregeling van aanvullende vergoeding ten gunste\\nvan sommige bejaarde werknemers indien zij\\nworden ontslagen\\\" en in uitvoering van de\\ntoekomstige collectieve arbeidsovereenkomst\\nvan de NAR, wordt aan de ontslagen\\nwerknemers, die voldoen aan de voorwaarden\\nvastgesteld in de volgende paragrafen, het\\nvoordeel van het stelsel van werkloosheid met\\nbedrijfstoeslag toegekend.\\n§ 2. Werknemers die ontslagen worden moeten\\n60 jaar of ouder zijn:\\nOp het ogenblik van het einde van de\\narbeidsovereenkomst;\\nEn ten laatste op 30 juni 2025.\\n§ 3. De loopbaanvoorwaarde van 33 jaar moet\\nvervuld zijn op het ogenblik van de het einde\\nvan de arbeidsovereenkomst.\\nHOOFDSTUK 3 - WERKLOOSHEID MET\\nBEDRIJFSTOESLAG VOOR WERKNEMERS MET\\nEEN BEROEPSLOOPBAAN VAN 35 JAAR IN EEN\\nZWAAR BEROEP\\nArtikel 3-§ 1. Onverminderd de toepassing van\\nde collectieve arbeidsovereenkomst nr. 17 van\\n19 december 1974 \\\"tot invoering van een\\nregeling van aanvullende vergoeding ten gunste\\nvan sommige bejaarde werknemers indien zij\\nworden ontslagen\\\" en in uitvoering van artikel\\n3, § 3 van het koninklijk besluit van 3 mei 2007\\ntot regeling van het stelsel van werkloosheid\\nmet bedrijfstoeslag en de toekomstige\\ncollectieve arbeidsovereenkomst van de NAR,\\nwordt aan de ontslagen werknemers, die\\nvoldoen aan de voorwaarden vastgesteld in de\\nvolgende paragrafen, het voordeel van het\\nstelsel van werkloosheid met bedrijfstoeslag\\ntoegekend.\\n§ 2. Werknemers die ontslagen worden moeten\\n60 jaar of ouder zijn:\\nOp het ogenblik van het einde van de\\narbeidsovereenkomst;\\nEn ten laatste op 30 juni 2025.\\n§ 3. De loopbaanvoorwaarde van 35 jaar moet\\nvervuld zijn op het ogenblik van het einde van\\nde arbeidsovereenkomst.\\nHOOFDSTUK 4 - WERKLOOSHEID MET\\nBEDRIJFSTOESLAG VOOR WERKNEMERS MET\\nEEN BEROEPSLOOPBAAN VAN 40 JAAR\\nArtikel 4 - § 1. Onverminderd de toepassing van\\nde collectieve arbeidsovereenkomst nr. 17 van\\n19 december 1974 \\\"tot invoering van een\\nregeling van aanvullende vergoeding ten gunste\\nvan sommige bejaarde werknemers indien zij\\nworden ontslagen\\\" en in uitvoering van de\\ntoekomstige collectieve arbeidsovereenkomst\\nvan de NAR, wordt aan de ontslagen\\nCOMMISSION PARITAIRE POUR DES GRANDES\\nENTREPRISES DE VENTE AU DETAIL\\nCP 311\\nCONVENTION COLLECTIVE DE TRAVAIL DU 18\\nAVRIL 2024 RELATIVE AU RÉGIME DE\\nCHÔMAGE AVEC COMPLÉMENT D'ENTREPRISE\\n(Juillet-octobre 2025)\\nCHAPITRE 1 - CHAMP D'APPLICATION\\nArticle 1 - § 1. La présente convention collective\\nde travail s'applique aux employeurs et aux\\ntravailleurs des entreprises relevant de la\\nCommission paritaire des grandes entreprises\\nde vente au détail (CP 311).\\n§ 2. Par \\\"travailleurs\\\" sont visés les travailleurs\\nmasculins et féminins.\\nCHAPITRE 2 - CHÔMAGE AVEC COMPLÉMENT\\nD'ENTREPRISE POUR LES TRAVAILLEURS AVEC\\n33 ANS DE CARRIÈRE DANS UN MÉTIER LOURD\\nArticle 2 - § 1. Sans préjudice de l'application de\\nla convention collective de travail n°17 du 19\\ndécembre 1974 << instituant un régime\\nd'indemnité complémentaire pour certains\\ntravailleurs âgés en cas de licenciement >> et en\\nexécution de la future convention collective de\\ntravail du CNT, il est octroyé aux travailleurs\\nlicenciés qui satisfont aux conditions énoncées\\ndans les paragraphes suivants, l'avantage du\\nrégime de chômage avec complément\\nd'entreprise.\\n§ 2. Les travailleurs licenciés doivent avoir\\natteint l'âge de 60 ans au moins :\\nÀ la fin de leur contrat de travail;\\nEt au plus tard le 30 juin 2025.\\n§ 3. La condition de carrière de 33 ans doit être\\nremplie au moment de la fin du contrat de\\ntravail.\\nCHAPITRE 3 - CHÔMAGE AVEC COMPLÉMENT\\nD'ENTREPRISE POUR LES TRAVAILLEURS AVEC\\n35 ANS DE CARRIÈRE DANS UN MÉTIER LOURD\\nArticle 3 - § 1. Sans préjudice de l'application de\\nla convention collective de travail n°17 du 19\\ndécembre 1974 << instituant un régime\\nd'indemnité complémentaire pour certains\\ntravailleurs âgés en cas de licenciement >> et en\\nexécution de l'article 3, § 3 de l'arrêté royal du\\n3 mai 2007 fixant le régime de chômage avec\\ncomplément d'entreprise et de la future\\nconvention collective de travail du, il est\\noctroyé aux travailleurs licenciés qui satisfont\\naux conditions énoncées dans les paragraphes\\nsuivants, l'avantage du régime de chômage avec\\ncomplément d'entreprise.\\n§ 2. Les travailleurs licenciés doivent avoir\\natteint l'âge de 60 ans au moins :\\nÀ la fin de leur contrat de travail;\\nEt au plus tard le 30 juin 2025.\\n§ 3. La condition de carrière de 35 ans doit être\\nremplie au moment de la fin du contrat de\\ntravail.\\nCHAPITRE 4 - CHÔMAGE AVEC COMPLÉMENT\\nD'ENTREPRISE POUR LES TRAVAILLEURS AVEC\\n40 ANS DE CARRIÈRE\\nArticle 4 - § 1. Sans préjudice de l'application de\\nla convention collective de travail n°17 du 19\\ndécembre 1974 << instituant un régime\\nd'indemnité complémentaire pour certains\\ntravailleurs âgés en cas de licenciement >> et en\\nexécution de la future convention collective de\\ntravail du CNT, il est octroyé aux travailleurs\\nlicenciés qui satisfont aux conditions énoncées\\nPC 311 WERKLOOSHEID MET BEDRIJFSTOESLAG\\n1/4\\nCP 311 CHÔMAGE AVEC COMPLÉMENT D'ENTREPRISE\\nPC 311 WERKLOOSHEID MET BEDRIJFSTOESLAG\\n2/4\\nCP 311 CHÔMAGE AVEC COMPLÉMENT D'ENTREPRISE\\n==End of OCR for page 2== ==Start of OCR for page 1==\\nwerknemers, die voldoen aan de voorwaarden\\nvastgesteld in de volgende paragrafen, het\\nvoordeel van het stelsel van werkloosheid met\\nbedrijfstoeslag toegekend.\\n§ 2. Werknemers die ontslagen worden moeten\\n60 jaar of ouder zijn:\\nOp het ogenblik van het einde van de\\narbeidsovereenkomst;\\nEn ten laatste op 30 juni 2025.\\n§ 3. De loopbaanvoorwaarde van 40 jaar moet\\nvervuld zijn op het ogenblik van het einde van\\nde arbeidsovereenkomst.\\nHOOFDSTUK 5 - OVERGANG TIJDSKREDIET -\\nWERKLOOSHEID MET BEDRIJFSTOESLAG\\nArtikel 5 - Voor de werknemers die genieten van\\neen vermindering van de arbeidsprestaties tot\\neen 4/5de of tot een halftijdse betrekking en die\\noverstappen in het stelsel van werkloosheid\\nmet bedrijfstoeslag, wordt de aanvullende\\nvergoeding berekend op basis van het bruto\\nmaandloon dat de werknemer zou verdienen\\nindien hij zijn arbeidsprestaties niet zou\\nverminderd hebben en de\\nwerkloosheidsuitkeringen overeenstemmend\\nmet het arbeidsregime in voege voor de\\naanvang van het tijdskrediet.\\nHOOFDSTUK 6 - WERKHERVATTING\\nArtikel 6 - Bij werkhervatting van de werkloze\\nmet bedrijfstoeslag binnen de voorwaarden van\\nartikelen 114 en 115 van de Wet van 27\\ndecember 2006 houdende diverse bepalingen,\\nnamelijk als werknemer in loondienst bij een\\nandere werkgever dan de schuldenaar van de\\nwerkloosheid met bedrijfstoeslag of voor\\nrekening van een werkgever die niet behoort\\ntot dezelfde technische bedrijfseenheid als de\\nwerkgever die hem heeft ontslagen, of als\\nzelfstandige in hoofdberoep, voor zover deze\\nactiviteit niet wordt uitgeoefend bij de\\ndans les paragraphes suivants, l'avantage du\\nrégime de chômage avec complément\\nd'entreprise.\\n§ 2. Les travailleurs licenciés doivent avoir\\natteint l'âge de 60 ans au moins :\\nÀ la fin de leur contrat de travail;\\nEt au plus tard le 30 juin 2025.\\n§ 3. La condition de carrière de 40 ans doit être\\nremplie au moment de la fin du contrat de\\ntravail.\\nCHAPITRE 5 - PASSAGE CREDIT-TEMPS -\\nCHÔMAGE AVEC COMPLÉMENT D'ENTREPRISE\\nArticle 5 - Pour les travailleurs bénéficiant d'une\\nréduction des prestations de travail à 4/5ième\\ntemps ou à mi-temps et qui entrent dans le\\nrégime de chômage avec complément\\nd'entreprise, l'indemnité complémentaire est\\ncalculée sur base du salaire mensuel brut que le\\ntravailleur aurait gagné s'il n'avait pas réduit ses\\nprestations de travail et des allocations de\\nchômage correspondant au régime de travail\\navant la prise du crédit-temps.\\nCHAPITRE 6 - REPRISE DE TRAVAIL\\nArticle 6 - En cas de reprise de travail par le\\nchômeur avec complément d'entreprise dans\\nles conditions des articles 114 et 115 de la Loi\\ndu 27 décembre 2006 portant dispositions\\ndiverses, notamment comme salarié auprès\\nd'un autre employeur que le débiteur du\\nchômage avec complément d'entreprise ou\\nauprès d'un employeur n'appartenant pas à la\\nmême unité technique d'exploitation que\\nl'employeur qui l'a licencié ou en qualité de\\ntravailleur indépendant à titre principal à\\ncondition qu'il n'exerce pas son activité pour le\\nwerkgever die de werknemer heeft ontslagen of compte de l'employeur qui l'a licencié ou pour\\nvoor rekening van een werkgever die behoort\\ntot dezelfde technische bedrijfseenheid als de\\nle compte d'un employeur appartenant à la\\nmême unité technique d'exploitation que\\nPC 311 WERKLOOSHEID MET BEDRIJFSTOESLAG\\n3/4\\nCP 311 CHÔMAGE AVEC COMPLÉMENT D'ENTREPRISE\\n==End of OCR for page 1==\\n\\n==Start of OCR for page 2==\\nwerkgever die hem heeft ontslagen, zal de\\naanvullende vergoeding worden verder betaald.\\nHOOFDSTUK 7 - BESCHIKBAARHEID\\nl'employeur qui l'a licencié, l'indemnité\\ncomplémentaire continuera à être payée.\\nCHAPITRE 7 - DISPONIBILITE\\nArticle 7 - En exécution de l'article 22, § 3,\\nalinéa 5 de l'arrêté royal du 3 mai 2007 fixant le\\nrégime de chômage avec complément\\nd'entreprise et de CCT n°168 et 169 du CNT,\\nArtikel 7 - In uitvoering van artikel 22, § 3, lid 5\\nvan het koninklijk besluit van 3 mei 2007 tot\\nregeling van het stelsel van werkloosheid met\\nbedrijfstoeslag en de CAO's nr. 168 en 169 van\\nde NAR wordt de leeftijd vermeld in artikel 22, § l'âge mentionné à l'article 22, § 3, alinéa 4, 1°\\n3, lid 4, 1° op 62 jaar gebracht vanaf 1 juli 2023\\ntot 31 december 2026.\\nHOOFDSTUK 8 - SLOTBEPALINGEN\\nest porté à 62 ans à partir du 1er juillet 2023\\njusqu'au 31 décembre 2026.\\nCHAPITRE 8 - DISPOSITIONS FINALES\\nArtikel 8 - Deze collectieve\\nArticle 8 - La présente convention collective de\\narbeidsovereenkomst treedt in werking op 1 juli travail entre en vigueur le 1er juillet 2025 et\\n2025 en houdt op van kracht te zijn op 31\\noktober 2025.\\ncesse d'être d'application le 31 octobre 2025.\\nPC 311 WERKLOOSHEID MET BEDRIJFSTOESLAG\\n4/4\\nCP 311 CHÔMAGE AVEC COMPLÉMENT D'ENTREPRISE\\n==End of OCR for page 2==\\n\\nThe document discusses the regulations for unemployment benefits with company supplement. \\n\\n**Key Elements:**\\n\\n* **Names:** No names are mentioned in the document.\\n* **Numbers:**\\n    * 4/5de\\n    * 60 jaar\\n    * 30 juni 2025\\n    * 40 jaar\\n    * 114 and 115\\n    * 27 december 2006\\n    * 168 and 169\\n    * 1 juli 2023\\n    * 31 december 2026\\n    * 1 juli 2025\\n    * 31 oktober 2025\\n* **Dates:**\\n    * 30 juni 2025\\n    * 27 december 2006\\n    * 3 mei 2007\\n    * 1 juli 2023\\n    * 31 december 2026\\n    * 1 juli 2025\\n    * 31 oktober 2025\\n* **People Mentioned:** No people are mentioned in the document.\\n* **Checkboxes:** No checkboxes are present.\\n* **Phone Numbers:** No phone numbers are present. \\n\\n**Logical Consistency:**\\n* The document is written in Dutch and French and is consistent throughout.\\n*  There are no inconsistencies found. \\n\\n**Transcription:**\\nThe provided document details regulations regarding unemployment benefits with company supplement. It outlines the eligibility criteria for workers who are laid off and meet certain age and work experience requirements. \\n\\nThe document also discusses the benefits of unemployment benefits for workers who have reduced their work hours and transition to unemployment benefits. \\n\\nIt includes information about the conditions for resuming work while receiving unemployment benefits and the requirements for employers and employees in such situations. \\n\\nFinally, the document clarifies the availability of benefits and the specific age requirements for beneficiaries. It also details the date of effect and termination of the collective labor agreement. \\n\"\"\")"
   ]
  }
 ],
 "metadata": {
  "kernelspec": {
   "display_name": ".venv",
   "language": "python",
   "name": "python3"
  },
  "language_info": {
   "codemirror_mode": {
    "name": "ipython",
    "version": 3
   },
   "file_extension": ".py",
   "mimetype": "text/x-python",
   "name": "python",
   "nbconvert_exporter": "python",
   "pygments_lexer": "ipython3",
   "version": "3.11.9"
  }
 },
 "nbformat": 4,
 "nbformat_minor": 2
}
